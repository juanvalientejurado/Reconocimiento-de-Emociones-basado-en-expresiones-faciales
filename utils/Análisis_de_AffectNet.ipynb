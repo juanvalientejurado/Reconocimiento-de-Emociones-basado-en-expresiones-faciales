{
  "nbformat": 4,
  "nbformat_minor": 0,
  "metadata": {
    "colab": {
      "name": "Análisis de AffectNet.ipynb",
      "provenance": []
    },
    "kernelspec": {
      "name": "python3",
      "display_name": "Python 3"
    },
    "language_info": {
      "name": "python"
    }
  },
  "cells": [
    {
      "cell_type": "code",
      "execution_count": 1,
      "metadata": {
        "id": "jN4JzivR0Eur"
      },
      "outputs": [],
      "source": [
        "######################\n",
        "#Librerías necesarias\n",
        "######################\n",
        "\n",
        "#Librerías de python y google colab\n",
        "import os\n",
        "import numpy as np\n",
        "import matplotlib.pyplot as plt\n",
        "import tarfile\n",
        "import random\n",
        "import copy\n",
        "import itertools\n",
        "from google.colab import drive\n",
        "\n",
        "#Pandas\n",
        "import pandas as pd\n",
        "\n",
        "#Pytorch\n",
        "import torch\n",
        "import torchvision.transforms as transforms\n",
        "import torch.nn as nn\n",
        "import torch.optim as optim\n",
        "from torch.utils.data import Dataset\n",
        "from skimage import io\n",
        "from torch.utils.data.dataset import Subset\n",
        "from torchvision.transforms.transforms import FiveCrop\n",
        "from torch.utils.data.dataloader import DataLoader\n",
        "from torch.utils.data import sampler, random_split\n",
        "from torch.utils.data.dataloader import DataLoader\n",
        "from torch.nn.modules.pooling import MaxPool2d\n",
        "from torch.nn.modules.activation import ReLU\n",
        "from torchsummary import summary\n",
        "\n",
        "#Scikit Learn\n",
        "from sklearn import metrics\n",
        "from sklearn.metrics import roc_curve\n",
        "from sklearn.metrics import roc_auc_score\n"
      ]
    },
    {
      "cell_type": "code",
      "source": [
        "#Asociar la cuenta de Google Drive con el cuaderno para leer los archivos .tar\n",
        "\n",
        "drive.mount('/content/drive')"
      ],
      "metadata": {
        "id": "rEyKCfD1Nh84",
        "colab": {
          "base_uri": "https://localhost:8080/"
        },
        "outputId": "ed4e19ee-154e-4219-b518-cfb6b2673e83"
      },
      "execution_count": 2,
      "outputs": [
        {
          "output_type": "stream",
          "name": "stdout",
          "text": [
            "Mounted at /content/drive\n"
          ]
        }
      ]
    },
    {
      "cell_type": "code",
      "source": [
        "#Extracción de los archivos .tar\n",
        "\n",
        "data_dir = \"/content/data\"\n",
        "\n",
        "#Extracción de train (cambiar directorio)\n",
        "tar = tarfile.open(\"/content/drive/MyDrive/TFG/train_set.tar\")\n",
        "tar.extractall(data_dir)\n",
        "tar.close()\n",
        "\n",
        "#Extraemos test (cambiar directorio)\n",
        "tar = tarfile.open(\"/content/drive/MyDrive/TFG/val_set.tar\")\n",
        "tar.extractall(data_dir)\n",
        "tar.close()"
      ],
      "metadata": {
        "id": "hk2-CtruNmpJ"
      },
      "execution_count": 3,
      "outputs": []
    },
    {
      "cell_type": "code",
      "source": [
        "\n",
        "#Para el cáclulo de los pesos, es necesario disponer de las etiquetas sin crear una base de datos\n",
        "\n",
        "train_annotations_path = \"/content/data/train_set/annotations\"\n",
        "train_dir = os.listdir(train_annotations_path)\n",
        "val_annotations_path = \"/content/data/val_set/annotations\"\n",
        "dir_val = os.listdir(val_annotations_path)\n",
        "\n",
        "\n",
        "#Si el archivo contiene exp.npy, metemos su ruta en el array \n",
        "train_npy=[]\n",
        "val_npy=[]\n",
        "\n",
        "for i in range(len(train_dir)):\n",
        "  if 'exp.npy' in train_dir[i]:\n",
        "    train_npy.append(train_dir[i])\n",
        "\n",
        "for i in range(len(dir_val)):\n",
        "  if 'exp.npy' in dir_val[i]:\n",
        "    val_npy.append(dir_val[i])\n",
        "\n",
        "#Ordenamos el array mirando su primer elemento\n",
        "train_npy.sort(key=lambda x: [int(x[0:-8])])\n",
        "print(len(train_npy))\n",
        "\n",
        "val_npy.sort(key=lambda x: [int(x[0:-8])])\n",
        "print(len(val_npy))\n",
        "\n",
        "\n",
        "#Función que procesa el archivo npy y obtiene su valor\n",
        "def npy_loader(path):\n",
        "   sample = np.load(path)\n",
        "   return sample\n",
        "\n",
        "#Guardamos las etiquetas en el array clases\n",
        "train_classes=[]\n",
        "for item in range(len(train_npy)):\n",
        "  train_classes.append(npy_loader(train_annotations_path + \"/\" + train_npy[item]))\n",
        "\n",
        "val_classes=[]\n",
        "for item in range(len(val_npy)):\n",
        "  #print(item)\n",
        "  val_classes.append(npy_loader(val_annotations_path + \"/\" + val_npy[item]))\n"
      ],
      "metadata": {
        "id": "tUyeVa3pNni0",
        "colab": {
          "base_uri": "https://localhost:8080/"
        },
        "outputId": "e1dea064-5a37-43b0-88d9-919bc89c5b54"
      },
      "execution_count": 4,
      "outputs": [
        {
          "output_type": "stream",
          "name": "stdout",
          "text": [
            "287651\n",
            "3999\n"
          ]
        }
      ]
    },
    {
      "cell_type": "code",
      "source": [
        "#Se procede de la misma forma con las imágenes\n",
        "\n",
        "train_images_path = \"/content/data/train_set/images\"\n",
        "train_images = os.listdir(train_images_path)\n",
        "train_images.sort(key=lambda x: [int(x[0:-4])])\n",
        "\n",
        "val_images_path = \"/content/data/val_set/images\"\n",
        "val_images = os.listdir(val_images_path)\n",
        "val_images.sort(key=lambda x: [int(x[0:-4])])"
      ],
      "metadata": {
        "id": "akrIyNxtOAFU"
      },
      "execution_count": 5,
      "outputs": []
    },
    {
      "cell_type": "code",
      "source": [
        "#Creación del archivo CSV que contiene la ruta a las imágenes y su etiqueta\n",
        "\n",
        "import pandas as pd\n",
        "\n",
        "Num_total_train=len(train_images)\n",
        "\n",
        "\n",
        "#Guardamos el nombre del archivo y su etiqueta en un dataframe de pandas\n",
        "data={}\n",
        "data['images']= train_images\n",
        "data['label']= train_classes\n",
        "\n",
        "print(len(data['images']))\n",
        "print(len(data['label']))\n",
        "data_df = pd.DataFrame(data, columns=['images', 'label'])\n",
        "print(data_df)\n",
        "\n",
        "data_df.to_csv(\"AffectNet.csv\", index=False, header = False)\n",
        "\n",
        "\n",
        "val_data={}\n",
        "val_data['images']= val_images\n",
        "val_data['label']= val_classes\n",
        "\n",
        "val_df = pd.DataFrame(val_data, columns=['images', 'label'])\n",
        "print(val_df)\n",
        "\n",
        "val_df.to_csv(\"AffectNet_val.csv\", index=False, header = False)\n",
        "\n",
        "\n",
        "\n",
        "\n",
        "\n",
        "\n"
      ],
      "metadata": {
        "id": "dYNl9S44OCB5",
        "colab": {
          "base_uri": "https://localhost:8080/"
        },
        "outputId": "bdde5e96-a4e8-4ddc-f73d-dd589a9cf575"
      },
      "execution_count": 6,
      "outputs": [
        {
          "output_type": "stream",
          "name": "stdout",
          "text": [
            "287651\n",
            "287651\n",
            "            images label\n",
            "0            0.jpg     1\n",
            "1            1.jpg     0\n",
            "2            2.jpg     0\n",
            "3            3.jpg     1\n",
            "4            5.jpg     6\n",
            "...            ...   ...\n",
            "287646  414792.jpg     2\n",
            "287647  414793.jpg     0\n",
            "287648  414794.jpg     2\n",
            "287649  414795.jpg     2\n",
            "287650  414796.jpg     1\n",
            "\n",
            "[287651 rows x 2 columns]\n",
            "        images label\n",
            "0        0.jpg     0\n",
            "1        1.jpg     0\n",
            "2        2.jpg     4\n",
            "3        3.jpg     0\n",
            "4        4.jpg     2\n",
            "...        ...   ...\n",
            "3994  5489.jpg     0\n",
            "3995  5490.jpg     6\n",
            "3996  5492.jpg     6\n",
            "3997  5494.jpg     3\n",
            "3998  5495.jpg     2\n",
            "\n",
            "[3999 rows x 2 columns]\n"
          ]
        }
      ]
    },
    {
      "cell_type": "code",
      "source": [
        "#Obtenemos las etiquetas como lista (para comvertirlas en palabras) y el número de veces que se repiten\n",
        "etiquetas_train= data_df['label'].value_counts().index.tolist()\n",
        "veces_train = data_df['label'].value_counts().sort_index()\n",
        "\n",
        "\n",
        "\n",
        "etiquetas_val = val_df['label'].value_counts().index.tolist()\n",
        "veces_val = val_df['label'].value_counts().sort_index()\n",
        "\n",
        "\n",
        "labels_map ={\n",
        "    0: \"Neutral\",\n",
        "    1: \"Happy\",\n",
        "    2: \"Sad\",\n",
        "    3: \"Surprised\",\n",
        "    4: \"Fear\",\n",
        "    5: \"Disgusted\",\n",
        "    6: \"Anger\",\n",
        "    7: \"Contempt\",\n",
        "   }\n",
        "\n",
        "train_array=np.array(etiquetas_train)\n",
        "train_etiquetas=[]\n",
        "\n",
        "#Guardamos las etiquetas de cada muestra en formato string\n",
        "for i in range(len(train_array)):\n",
        "  train_etiquetas.append(labels_map[train_array[i].astype('int')])\n",
        "\n",
        "\n",
        "\n",
        "val_array=np.array(etiquetas_val)\n",
        "val_etiquetas=[]\n",
        "\n",
        "for i in range(len(val_array)):\n",
        "  val_etiquetas.append(labels_map[val_array[i].astype('int')])\n",
        "\n",
        "\n",
        "fig= plt.figure(figsize=(16,9)) \n",
        "plt.subplot(2,2,1)\n",
        "plt.pie(veces_train, labels = train_etiquetas)\n",
        "plt.axis('equal')\n",
        "plt.title(\"Train set\")\n",
        "\n",
        "\n",
        "plt.subplot(2,2,2)\n",
        "plt.bar(train_etiquetas, veces_train)\n",
        "plt.title(\"Train set\")\n",
        "\n",
        "\n",
        "plt.subplot(2,2,3)\n",
        "plt.pie(veces_val, labels = val_etiquetas)\n",
        "plt.axis('equal')\n",
        "plt.title(\"Validation set\")\n",
        "\n",
        "plt.subplot(2,2,4)\n",
        "plt.bar(val_etiquetas, veces_val)\n",
        "plt.title(\"Validation set\")\n",
        "\n",
        "plt.show()\n",
        "\n"
      ],
      "metadata": {
        "id": "YdT4ILMPOFCv",
        "colab": {
          "base_uri": "https://localhost:8080/",
          "height": 388
        },
        "outputId": "a6fe01a9-d657-41cc-b090-cf82bbdb5861"
      },
      "execution_count": 7,
      "outputs": [
        {
          "output_type": "display_data",
          "data": {
            "text/plain": [
              "<Figure size 1152x648 with 4 Axes>"
            ],
            "image/png": "[encoded data removed]"
          },
          "metadata": {
            "needs_background": "light"
          }
        }
      ]
    },
    {
      "cell_type": "code",
      "source": [
        ""
      ],
      "metadata": {
        "id": "93EK-zdCOIiz"
      },
      "execution_count": null,
      "outputs": []
    }
  ]
}